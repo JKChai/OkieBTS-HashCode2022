{
  "nbformat": 4,
  "nbformat_minor": 0,
  "metadata": {
    "colab": {
      "name": "traffic.ipynb",
      "provenance": [],
      "collapsed_sections": [],
      "authorship_tag": "ABX9TyO/vV2aLl6x/LdYXj2kkWma",
      "include_colab_link": true
    },
    "kernelspec": {
      "name": "python3",
      "display_name": "Python 3"
    },
    "language_info": {
      "name": "python"
    }
  },
  "cells": [
    {
      "cell_type": "markdown",
      "metadata": {
        "id": "view-in-github",
        "colab_type": "text"
      },
      "source": [
        "<a href=\"https://colab.research.google.com/github/JKChai/OkieBTS-HashCode2022/blob/main/traffic.ipynb\" target=\"_parent\"><img src=\"https://colab.research.google.com/assets/colab-badge.svg\" alt=\"Open In Colab\"/></a>"
      ]
    },
    {
      "cell_type": "code",
      "execution_count": 1,
      "metadata": {
        "colab": {
          "base_uri": "https://localhost:8080/"
        },
        "id": "67EnH1cGkHoD",
        "outputId": "4007cd9e-fa1f-4cdc-bad8-8c4038457650"
      },
      "outputs": [
        {
          "output_type": "stream",
          "name": "stdout",
          "text": [
            "Mounted at /content/drive\n"
          ]
        }
      ],
      "source": [
        "from google.colab import drive\n",
        "drive.mount('/content/drive')"
      ]
    },
    {
      "cell_type": "code",
      "source": [
        "a_dir = '/content/drive/MyDrive/HashCode/trafficSignaling/a.txt'\n",
        "b_dir = '/content/drive/MyDrive/HashCode/trafficSignaling/b.txt'\n",
        "c_dir = '/content/drive/MyDrive/HashCode/trafficSignaling/c.txt'\n",
        "d_dir = '/content/drive/MyDrive/HashCode/trafficSignaling/d.txt'\n",
        "e_dir = '/content/drive/MyDrive/HashCode/trafficSignaling/e.txt'\n",
        "f_dir = '/content/drive/MyDrive/HashCode/trafficSignaling/f.txt'"
      ],
      "metadata": {
        "id": "7vQAkPwjkJB2"
      },
      "execution_count": 2,
      "outputs": []
    },
    {
      "cell_type": "code",
      "source": [
        "class streets:\n",
        "  def __init__(self, s, e, n, l):\n",
        "    self.intersectionStart = s\n",
        "    self.intersectionEnd = e\n",
        "    self.name = n\n",
        "    self.timeCost = l\n",
        "\n",
        "with open(a_dir) as f:\n",
        "    lines = f.readlines()\n",
        "    # d: duration of the simulation\n",
        "    # i: the number of intersections\n",
        "    # s: the number of streets\n",
        "    # v: the number of cars\n",
        "    # f: - the bonus points for each car that reaches its destination before time D\n",
        "\n",
        "    d, i, s, v, f = list(int(t) for t in lines[0].split())\n",
        "    # print(d, i, s, v, f)\n",
        "\n",
        "    streetNameMatcher = dict()\n",
        "\n",
        "    streetDict = dict()\n",
        "    carDict = dict()\n",
        "\n",
        "    # s lines: descriptions of streets\n",
        "    for sindex in range(s):\n",
        "      temp = lines[sindex+1].split()\n",
        "      startInter = int(temp[0])\n",
        "      endInter = int(temp[1])\n",
        "      strName = temp[2]\n",
        "      streetNameMatcher[strName] = sindex\n",
        "      cost = int(temp[3])\n",
        "      streetDict[sindex] = streets(startInter, endInter, strName, cost)\n",
        "\n",
        "    # v lines: describe the paths of each cars\n",
        "    for vindex in range(v):\n",
        "      temp = lines[s+vindex+1].split()\n",
        "      tempList = []\n",
        "      for te in range(int(temp[0])):\n",
        "        tempList.append(streetNameMatcher[temp[te+1]])\n",
        "      carDict[vindex] = tempList\n",
        "    \n",
        "    # \n",
        "    for time in range(d):\n"
      ],
      "metadata": {
        "id": "KAEwMDx_kNVQ"
      },
      "execution_count": 31,
      "outputs": []
    }
  ]
}